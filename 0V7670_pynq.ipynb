{
 "cells": [
  {
   "cell_type": "code",
   "execution_count": 19,
   "metadata": {},
   "outputs": [],
   "source": [
    "from pynq import Overlay, MMIO, lib\n",
    "from pynq.lib.video import VideoMode\n",
    "from PIL import Image\n",
    "import cffi\n",
    "from time import sleep"
   ]
  },
  {
   "cell_type": "markdown",
   "metadata": {},
   "source": [
    "## Before starting this piece of code be sure that SW0 on board is in OFF position"
   ]
  },
  {
   "cell_type": "code",
   "execution_count": 20,
   "metadata": {},
   "outputs": [],
   "source": [
    "overlay = Overlay(\"design_1.bit\")"
   ]
  },
  {
   "cell_type": "markdown",
   "metadata": {},
   "source": [
    "Class to manage the convolution filter mapped on FPGA. It provides method to modify \"on fly\" the kernel (7x7)"
   ]
  },
  {
   "cell_type": "code",
   "execution_count": 21,
   "metadata": {},
   "outputs": [],
   "source": [
    "class Convolution_Filter:\n",
    "    def __init__(self, overlay, base_address=0x43C10000, address_range=0x10000, address_offset=0x40):\n",
    "        self.base_address = base_address\n",
    "        self.address_range = address_range\n",
    "        self.address_offset = address_offset\n",
    "        self.offset = 0x04\n",
    "        self.mmio = MMIO(base_address, address_range)\n",
    "        self.conv = overlay.filter.convolution_filter\n",
    "        \n",
    "    def update_filter(self, fil):\n",
    "        if(len(fil) != 51):\n",
    "            print(\"La lunghezza del filtro deve essere di 51 elementi\")\n",
    "            \n",
    "        address = self.address_offset\n",
    "        data = 0x00000000\n",
    "        bits_shift = 0\n",
    "        counter = 0\n",
    "        \n",
    "        for el in fil:\n",
    "            if(bits_shift >= 32):\n",
    "                self.mmio.write(address, data)\n",
    "                data = 0x00000000\n",
    "                bits_shift = 0\n",
    "                address = address + self.offset\n",
    "            \n",
    "            counter += 1\n",
    "            data = data | (el << bits_shift)\n",
    "            bits_shift += 8\n",
    "            if(counter >= 51):\n",
    "                self.mmio.write(address, data)\n",
    "    \n",
    "    def print_filter(self):\n",
    "        f1 = self.conv.mmio.array.view('int8')[0x40:0x71]\n",
    "        f2 = self.conv.mmio.array.view('int8')[0x71:0x73]\n",
    "        \n",
    "        print(f1.reshape((7,7)))\n",
    "        print(f2.reshape((1,2)))"
   ]
  },
  {
   "cell_type": "markdown",
   "metadata": {},
   "source": [
    "Class to manage OV7670 sensor. It provides basic methods to write and read sensor's registers and a basic setup that works quite well in our configuration"
   ]
  },
  {
   "cell_type": "code",
   "execution_count": 22,
   "metadata": {},
   "outputs": [],
   "source": [
    "class OV7670:\n",
    "    def __init__(self, iic):\n",
    "        self.OV7670_SLAVE_ADDRESS = 0x21\n",
    "        \n",
    "        _ffi = cffi.FFI()\n",
    "        self.tx_buf = _ffi.new(\"unsigned char [32]\")\n",
    "        self.rx_buf = _ffi.new(\"unsigned char [32]\")\n",
    "        \n",
    "        self.iic = iic\n",
    "\n",
    "    def write_register(self, reg, data):\n",
    "        self.tx_buf[0] = reg\n",
    "        self.tx_buf[1] = data\n",
    "\n",
    "        self.iic.send(self.OV7670_SLAVE_ADDRESS, self.tx_buf, 2, 0)\n",
    "\n",
    "    def read_register(self, reg):\n",
    "        self.tx_buf[0] = reg\n",
    "\n",
    "        self.iic.send(self.OV7670_SLAVE_ADDRESS, self.tx_buf, 1, 0)\n",
    "        self.iic.receive(self.OV7670_SLAVE_ADDRESS, self.rx_buf, 1, 0)\n",
    "\n",
    "        return self.rx_buf[0]\n",
    "\n",
    "    def default_setup(self):\n",
    "        self.write_register(0x12, 0x80)\n",
    "        sleep(1)\n",
    "        self.write_register(0x0E, 0x01)\n",
    "        self.write_register(0x0F, 0x4B)\n",
    "        self.write_register(0x16, 0x02)\n",
    "        self.write_register(0x1E, 0x07)\n",
    "        self.write_register(0x21, 0x02)\n",
    "        self.write_register(0x22, 0x91)\n",
    "        self.write_register(0x29, 0x07)\n",
    "        self.write_register(0x33, 0x0B)\n",
    "        self.write_register(0x35, 0x0B)\n",
    "        self.write_register(0x37, 0x1D)\n",
    "        self.write_register(0x38, 0x01)\n",
    "        self.write_register(0x0C, 0x00) \n",
    "        self.write_register(0x3C, 0x78)\n",
    "        self.write_register(0x4D, 0x40)\n",
    "        self.write_register(0x4E, 0x20)\n",
    "        self.write_register(0x74, 0x10)\n",
    "        self.write_register(0x8D, 0x4F)\n",
    "        self.write_register(0x8E, 0x00)\n",
    "        self.write_register(0x8F, 0x00)\n",
    "        self.write_register(0x90, 0x00)\n",
    "        self.write_register(0x91, 0x00)\n",
    "        self.write_register(0x96, 0x00)\n",
    "        self.write_register(0x9A, 0x00)\n",
    "        self.write_register(0xB0, 0x84)\n",
    "        self.write_register(0xB1, 0x04)\n",
    "        self.write_register(0xB2, 0x0E)\n",
    "        self.write_register(0xB3, 0x82)\n",
    "        self.write_register(0xB8, 0x0A)"
   ]
  },
  {
   "cell_type": "markdown",
   "metadata": {},
   "source": [
    "Usage example of OV7670 class to program sensor with a basic setup"
   ]
  },
  {
   "cell_type": "code",
   "execution_count": 23,
   "metadata": {},
   "outputs": [],
   "source": [
    "iic = overlay.axi_iic\n",
    "ov7670 = OV7670(iic)\n",
    "ov7670.default_setup()"
   ]
  },
  {
   "cell_type": "markdown",
   "metadata": {},
   "source": [
    "## Before exexuting this piece of code set SW0 on"
   ]
  },
  {
   "cell_type": "markdown",
   "metadata": {},
   "source": [
    "Usage example of convolution filter class"
   ]
  },
  {
   "cell_type": "code",
   "execution_count": 34,
   "metadata": {},
   "outputs": [],
   "source": [
    "sharpen_filter = [\n",
    "    1, 0, 0, 0, 0, 0, 0,\n",
    "    0, 1, 0, 0, 0, 0, 0,\n",
    "    0, 0, 1, 0, 0, 0, 0,\n",
    "    0, 0, 0, 1, 0, 0, 0,\n",
    "    0, 0, 0, 0, 1, 0, 0,\n",
    "    0, 0, 0, 0, 0, 1, 0,\n",
    "    0, 0, 0, 0, 0, 0, 1,\n",
    "    7, 0]\n",
    "\n",
    "neutral_filter = [\n",
    "    0, 0, 0, 0, 0, 0, 0,\n",
    "    0, 0, 0, 0, 0, 0, 0,\n",
    "    0, 0, 0, 0, 0, 0, 0,\n",
    "    0, 0, 0, 1, 0, 0, 0,\n",
    "    0, 0, 0, 0, 0, 0, 0,\n",
    "    0, 0, 0, 0, 0, 0, 0,\n",
    "    0, 0, 0, 0, 0, 0, 0,\n",
    "    1, 0]\n",
    "\n",
    "vertical_filter = [\n",
    "\t-1, -2, -4, 0, 4, 2, 1,\n",
    "\t-1, -2, -4, 0, 4, 2, 1,\n",
    "\t-2, -4, -6, 0, 6, 4, 2,\n",
    "\t-4, -6, -8, 0, 8, 6, 4,\n",
    "\t-2, -4, -6, 0, 6, 4, 2,\n",
    "\t-1, -2, -4, 0, 4, 2, 1,\n",
    "\t-1, -2, -4, 0, 4, 2, 1,\n",
    "    120, 127]\n",
    "\n",
    "fil = Convolution_Filter(overlay)\n",
    "fil.update_filter(vertical_filter)"
   ]
  },
  {
   "cell_type": "code",
   "execution_count": 25,
   "metadata": {},
   "outputs": [],
   "source": [
    "# Configuration of vdma with a resolution of 800x600 and 24 bit for each pixel\n",
    "vdma = overlay.VDMA.axi_vdma\n",
    "\n",
    "vdma.readchannel.reset()\n",
    "vdma.readchannel.mode = VideoMode(800, 600, 24)\n",
    "vdma.readchannel.start()\n",
    "\n",
    "vdma.writechannel.reset()\n",
    "vdma.writechannel.mode = VideoMode(800, 600, 24)\n",
    "vdma.writechannel.start()\n",
    "\n",
    "frame = vdma.readchannel.readframe() # Needed because first frame is always black\n",
    "\n",
    "vdma.readchannel.tie(vdma.writechannel) # Connect input directly to output of vdma"
   ]
  },
  {
   "cell_type": "code",
   "execution_count": 8,
   "metadata": {},
   "outputs": [],
   "source": [
    "#frame = vdma.readchannel.readframe()\n",
    "#img = Image.fromarray(frame, 'RGB')\n",
    "#display(img)\n",
    "#img.save(\"img.png\")"
   ]
  }
 ],
 "metadata": {
  "kernelspec": {
   "display_name": "Python 3",
   "language": "python",
   "name": "python3"
  },
  "language_info": {
   "codemirror_mode": {
    "name": "ipython",
    "version": 3
   },
   "file_extension": ".py",
   "mimetype": "text/x-python",
   "name": "python",
   "nbconvert_exporter": "python",
   "pygments_lexer": "ipython3",
   "version": "3.6.5"
  }
 },
 "nbformat": 4,
 "nbformat_minor": 2
}
